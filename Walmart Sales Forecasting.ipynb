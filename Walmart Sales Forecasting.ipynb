{
 "cells": [
  {
   "cell_type": "code",
   "execution_count": 1,
   "metadata": {},
   "outputs": [],
   "source": [
    "import pandas as pd\n",
    "import datetime                                        # To handle dates\n",
    "import calendar                                        # To get month\n",
    "import statsmodels.formula.api as sm\n",
    "import matplotlib.pylab as plt\n",
    "import numpy as np\n",
    "import seaborn as sns\n",
    "import sklearn.metrics as metrics                      # To get regression metrics\n",
    "import scipy as sp\n",
    "import time                                            # To do time complexity analysis\n",
    "import random\n",
    "import copy\n",
    "import profile\n",
    "import cProfile\n",
    "from sklearn.cluster import KMeans                     # perform clustering operation\n",
    "%matplotlib inline"
   ]
  },
  {
   "cell_type": "code",
   "execution_count": 2,
   "metadata": {},
   "outputs": [],
   "source": [
    "#loading in raw data\n",
    "features_df = pd.read_csv(\"features.csv\")\n",
    "stores_df = pd.read_csv(\"stores.csv\")\n",
    "train_df = pd.read_csv(\"train.csv\")"
   ]
  },
  {
   "cell_type": "code",
   "execution_count": 3,
   "metadata": {},
   "outputs": [
    {
     "data": {
      "text/html": [
       "<div>\n",
       "<style scoped>\n",
       "    .dataframe tbody tr th:only-of-type {\n",
       "        vertical-align: middle;\n",
       "    }\n",
       "\n",
       "    .dataframe tbody tr th {\n",
       "        vertical-align: top;\n",
       "    }\n",
       "\n",
       "    .dataframe thead th {\n",
       "        text-align: right;\n",
       "    }\n",
       "</style>\n",
       "<table border=\"1\" class=\"dataframe\">\n",
       "  <thead>\n",
       "    <tr style=\"text-align: right;\">\n",
       "      <th></th>\n",
       "      <th>Store</th>\n",
       "      <th>Date</th>\n",
       "      <th>Temperature</th>\n",
       "      <th>Fuel_Price</th>\n",
       "      <th>MarkDown1</th>\n",
       "      <th>MarkDown2</th>\n",
       "      <th>MarkDown3</th>\n",
       "      <th>MarkDown4</th>\n",
       "      <th>MarkDown5</th>\n",
       "      <th>CPI</th>\n",
       "      <th>Unemployment</th>\n",
       "      <th>IsHoliday</th>\n",
       "    </tr>\n",
       "  </thead>\n",
       "  <tbody>\n",
       "    <tr>\n",
       "      <th>0</th>\n",
       "      <td>1</td>\n",
       "      <td>2010-02-05</td>\n",
       "      <td>42.31</td>\n",
       "      <td>2.572</td>\n",
       "      <td>NaN</td>\n",
       "      <td>NaN</td>\n",
       "      <td>NaN</td>\n",
       "      <td>NaN</td>\n",
       "      <td>NaN</td>\n",
       "      <td>211.096358</td>\n",
       "      <td>8.106</td>\n",
       "      <td>False</td>\n",
       "    </tr>\n",
       "    <tr>\n",
       "      <th>1</th>\n",
       "      <td>1</td>\n",
       "      <td>2010-02-12</td>\n",
       "      <td>38.51</td>\n",
       "      <td>2.548</td>\n",
       "      <td>NaN</td>\n",
       "      <td>NaN</td>\n",
       "      <td>NaN</td>\n",
       "      <td>NaN</td>\n",
       "      <td>NaN</td>\n",
       "      <td>211.242170</td>\n",
       "      <td>8.106</td>\n",
       "      <td>True</td>\n",
       "    </tr>\n",
       "    <tr>\n",
       "      <th>2</th>\n",
       "      <td>1</td>\n",
       "      <td>2010-02-19</td>\n",
       "      <td>39.93</td>\n",
       "      <td>2.514</td>\n",
       "      <td>NaN</td>\n",
       "      <td>NaN</td>\n",
       "      <td>NaN</td>\n",
       "      <td>NaN</td>\n",
       "      <td>NaN</td>\n",
       "      <td>211.289143</td>\n",
       "      <td>8.106</td>\n",
       "      <td>False</td>\n",
       "    </tr>\n",
       "    <tr>\n",
       "      <th>3</th>\n",
       "      <td>1</td>\n",
       "      <td>2010-02-26</td>\n",
       "      <td>46.63</td>\n",
       "      <td>2.561</td>\n",
       "      <td>NaN</td>\n",
       "      <td>NaN</td>\n",
       "      <td>NaN</td>\n",
       "      <td>NaN</td>\n",
       "      <td>NaN</td>\n",
       "      <td>211.319643</td>\n",
       "      <td>8.106</td>\n",
       "      <td>False</td>\n",
       "    </tr>\n",
       "    <tr>\n",
       "      <th>4</th>\n",
       "      <td>1</td>\n",
       "      <td>2010-03-05</td>\n",
       "      <td>46.50</td>\n",
       "      <td>2.625</td>\n",
       "      <td>NaN</td>\n",
       "      <td>NaN</td>\n",
       "      <td>NaN</td>\n",
       "      <td>NaN</td>\n",
       "      <td>NaN</td>\n",
       "      <td>211.350143</td>\n",
       "      <td>8.106</td>\n",
       "      <td>False</td>\n",
       "    </tr>\n",
       "  </tbody>\n",
       "</table>\n",
       "</div>"
      ],
      "text/plain": [
       "   Store        Date  Temperature  Fuel_Price  MarkDown1  MarkDown2  \\\n",
       "0      1  2010-02-05        42.31       2.572        NaN        NaN   \n",
       "1      1  2010-02-12        38.51       2.548        NaN        NaN   \n",
       "2      1  2010-02-19        39.93       2.514        NaN        NaN   \n",
       "3      1  2010-02-26        46.63       2.561        NaN        NaN   \n",
       "4      1  2010-03-05        46.50       2.625        NaN        NaN   \n",
       "\n",
       "   MarkDown3  MarkDown4  MarkDown5         CPI  Unemployment  IsHoliday  \n",
       "0        NaN        NaN        NaN  211.096358         8.106      False  \n",
       "1        NaN        NaN        NaN  211.242170         8.106       True  \n",
       "2        NaN        NaN        NaN  211.289143         8.106      False  \n",
       "3        NaN        NaN        NaN  211.319643         8.106      False  \n",
       "4        NaN        NaN        NaN  211.350143         8.106      False  "
      ]
     },
     "execution_count": 3,
     "metadata": {},
     "output_type": "execute_result"
    }
   ],
   "source": [
    "#Lets see how data looks like\n",
    "\n",
    "features_df.head()"
   ]
  },
  {
   "cell_type": "code",
   "execution_count": 4,
   "metadata": {},
   "outputs": [
    {
     "data": {
      "text/html": [
       "<div>\n",
       "<style scoped>\n",
       "    .dataframe tbody tr th:only-of-type {\n",
       "        vertical-align: middle;\n",
       "    }\n",
       "\n",
       "    .dataframe tbody tr th {\n",
       "        vertical-align: top;\n",
       "    }\n",
       "\n",
       "    .dataframe thead th {\n",
       "        text-align: right;\n",
       "    }\n",
       "</style>\n",
       "<table border=\"1\" class=\"dataframe\">\n",
       "  <thead>\n",
       "    <tr style=\"text-align: right;\">\n",
       "      <th></th>\n",
       "      <th>Store</th>\n",
       "      <th>Temperature</th>\n",
       "      <th>Fuel_Price</th>\n",
       "      <th>MarkDown1</th>\n",
       "      <th>MarkDown2</th>\n",
       "      <th>MarkDown3</th>\n",
       "      <th>MarkDown4</th>\n",
       "      <th>MarkDown5</th>\n",
       "      <th>CPI</th>\n",
       "      <th>Unemployment</th>\n",
       "    </tr>\n",
       "  </thead>\n",
       "  <tbody>\n",
       "    <tr>\n",
       "      <th>count</th>\n",
       "      <td>8190.000000</td>\n",
       "      <td>8190.000000</td>\n",
       "      <td>8190.000000</td>\n",
       "      <td>4032.000000</td>\n",
       "      <td>2921.000000</td>\n",
       "      <td>3613.000000</td>\n",
       "      <td>3464.000000</td>\n",
       "      <td>4050.000000</td>\n",
       "      <td>7605.000000</td>\n",
       "      <td>7605.000000</td>\n",
       "    </tr>\n",
       "    <tr>\n",
       "      <th>mean</th>\n",
       "      <td>23.000000</td>\n",
       "      <td>59.356198</td>\n",
       "      <td>3.405992</td>\n",
       "      <td>7032.371786</td>\n",
       "      <td>3384.176594</td>\n",
       "      <td>1760.100180</td>\n",
       "      <td>3292.935886</td>\n",
       "      <td>4132.216422</td>\n",
       "      <td>172.460809</td>\n",
       "      <td>7.826821</td>\n",
       "    </tr>\n",
       "    <tr>\n",
       "      <th>std</th>\n",
       "      <td>12.987966</td>\n",
       "      <td>18.678607</td>\n",
       "      <td>0.431337</td>\n",
       "      <td>9262.747448</td>\n",
       "      <td>8793.583016</td>\n",
       "      <td>11276.462208</td>\n",
       "      <td>6792.329861</td>\n",
       "      <td>13086.690278</td>\n",
       "      <td>39.738346</td>\n",
       "      <td>1.877259</td>\n",
       "    </tr>\n",
       "    <tr>\n",
       "      <th>min</th>\n",
       "      <td>1.000000</td>\n",
       "      <td>-7.290000</td>\n",
       "      <td>2.472000</td>\n",
       "      <td>-2781.450000</td>\n",
       "      <td>-265.760000</td>\n",
       "      <td>-179.260000</td>\n",
       "      <td>0.220000</td>\n",
       "      <td>-185.170000</td>\n",
       "      <td>126.064000</td>\n",
       "      <td>3.684000</td>\n",
       "    </tr>\n",
       "    <tr>\n",
       "      <th>25%</th>\n",
       "      <td>12.000000</td>\n",
       "      <td>45.902500</td>\n",
       "      <td>3.041000</td>\n",
       "      <td>1577.532500</td>\n",
       "      <td>68.880000</td>\n",
       "      <td>6.600000</td>\n",
       "      <td>304.687500</td>\n",
       "      <td>1440.827500</td>\n",
       "      <td>132.364839</td>\n",
       "      <td>6.634000</td>\n",
       "    </tr>\n",
       "    <tr>\n",
       "      <th>50%</th>\n",
       "      <td>23.000000</td>\n",
       "      <td>60.710000</td>\n",
       "      <td>3.513000</td>\n",
       "      <td>4743.580000</td>\n",
       "      <td>364.570000</td>\n",
       "      <td>36.260000</td>\n",
       "      <td>1176.425000</td>\n",
       "      <td>2727.135000</td>\n",
       "      <td>182.764003</td>\n",
       "      <td>7.806000</td>\n",
       "    </tr>\n",
       "    <tr>\n",
       "      <th>75%</th>\n",
       "      <td>34.000000</td>\n",
       "      <td>73.880000</td>\n",
       "      <td>3.743000</td>\n",
       "      <td>8923.310000</td>\n",
       "      <td>2153.350000</td>\n",
       "      <td>163.150000</td>\n",
       "      <td>3310.007500</td>\n",
       "      <td>4832.555000</td>\n",
       "      <td>213.932412</td>\n",
       "      <td>8.567000</td>\n",
       "    </tr>\n",
       "    <tr>\n",
       "      <th>max</th>\n",
       "      <td>45.000000</td>\n",
       "      <td>101.950000</td>\n",
       "      <td>4.468000</td>\n",
       "      <td>103184.980000</td>\n",
       "      <td>104519.540000</td>\n",
       "      <td>149483.310000</td>\n",
       "      <td>67474.850000</td>\n",
       "      <td>771448.100000</td>\n",
       "      <td>228.976456</td>\n",
       "      <td>14.313000</td>\n",
       "    </tr>\n",
       "  </tbody>\n",
       "</table>\n",
       "</div>"
      ],
      "text/plain": [
       "             Store  Temperature   Fuel_Price      MarkDown1      MarkDown2  \\\n",
       "count  8190.000000  8190.000000  8190.000000    4032.000000    2921.000000   \n",
       "mean     23.000000    59.356198     3.405992    7032.371786    3384.176594   \n",
       "std      12.987966    18.678607     0.431337    9262.747448    8793.583016   \n",
       "min       1.000000    -7.290000     2.472000   -2781.450000    -265.760000   \n",
       "25%      12.000000    45.902500     3.041000    1577.532500      68.880000   \n",
       "50%      23.000000    60.710000     3.513000    4743.580000     364.570000   \n",
       "75%      34.000000    73.880000     3.743000    8923.310000    2153.350000   \n",
       "max      45.000000   101.950000     4.468000  103184.980000  104519.540000   \n",
       "\n",
       "           MarkDown3     MarkDown4      MarkDown5          CPI  Unemployment  \n",
       "count    3613.000000   3464.000000    4050.000000  7605.000000   7605.000000  \n",
       "mean     1760.100180   3292.935886    4132.216422   172.460809      7.826821  \n",
       "std     11276.462208   6792.329861   13086.690278    39.738346      1.877259  \n",
       "min      -179.260000      0.220000    -185.170000   126.064000      3.684000  \n",
       "25%         6.600000    304.687500    1440.827500   132.364839      6.634000  \n",
       "50%        36.260000   1176.425000    2727.135000   182.764003      7.806000  \n",
       "75%       163.150000   3310.007500    4832.555000   213.932412      8.567000  \n",
       "max    149483.310000  67474.850000  771448.100000   228.976456     14.313000  "
      ]
     },
     "execution_count": 4,
     "metadata": {},
     "output_type": "execute_result"
    }
   ],
   "source": [
    "features_df.describe()"
   ]
  },
  {
   "cell_type": "code",
   "execution_count": 5,
   "metadata": {},
   "outputs": [
    {
     "data": {
      "text/html": [
       "<div>\n",
       "<style scoped>\n",
       "    .dataframe tbody tr th:only-of-type {\n",
       "        vertical-align: middle;\n",
       "    }\n",
       "\n",
       "    .dataframe tbody tr th {\n",
       "        vertical-align: top;\n",
       "    }\n",
       "\n",
       "    .dataframe thead th {\n",
       "        text-align: right;\n",
       "    }\n",
       "</style>\n",
       "<table border=\"1\" class=\"dataframe\">\n",
       "  <thead>\n",
       "    <tr style=\"text-align: right;\">\n",
       "      <th></th>\n",
       "      <th>Store</th>\n",
       "      <th>Type</th>\n",
       "      <th>Size</th>\n",
       "    </tr>\n",
       "  </thead>\n",
       "  <tbody>\n",
       "    <tr>\n",
       "      <th>0</th>\n",
       "      <td>1</td>\n",
       "      <td>A</td>\n",
       "      <td>151315</td>\n",
       "    </tr>\n",
       "    <tr>\n",
       "      <th>1</th>\n",
       "      <td>2</td>\n",
       "      <td>A</td>\n",
       "      <td>202307</td>\n",
       "    </tr>\n",
       "    <tr>\n",
       "      <th>2</th>\n",
       "      <td>3</td>\n",
       "      <td>B</td>\n",
       "      <td>37392</td>\n",
       "    </tr>\n",
       "    <tr>\n",
       "      <th>3</th>\n",
       "      <td>4</td>\n",
       "      <td>A</td>\n",
       "      <td>205863</td>\n",
       "    </tr>\n",
       "    <tr>\n",
       "      <th>4</th>\n",
       "      <td>5</td>\n",
       "      <td>B</td>\n",
       "      <td>34875</td>\n",
       "    </tr>\n",
       "  </tbody>\n",
       "</table>\n",
       "</div>"
      ],
      "text/plain": [
       "   Store Type    Size\n",
       "0      1    A  151315\n",
       "1      2    A  202307\n",
       "2      3    B   37392\n",
       "3      4    A  205863\n",
       "4      5    B   34875"
      ]
     },
     "execution_count": 5,
     "metadata": {},
     "output_type": "execute_result"
    }
   ],
   "source": [
    "stores_df.head()"
   ]
  },
  {
   "cell_type": "code",
   "execution_count": 6,
   "metadata": {},
   "outputs": [
    {
     "data": {
      "text/html": [
       "<div>\n",
       "<style scoped>\n",
       "    .dataframe tbody tr th:only-of-type {\n",
       "        vertical-align: middle;\n",
       "    }\n",
       "\n",
       "    .dataframe tbody tr th {\n",
       "        vertical-align: top;\n",
       "    }\n",
       "\n",
       "    .dataframe thead th {\n",
       "        text-align: right;\n",
       "    }\n",
       "</style>\n",
       "<table border=\"1\" class=\"dataframe\">\n",
       "  <thead>\n",
       "    <tr style=\"text-align: right;\">\n",
       "      <th></th>\n",
       "      <th>Store</th>\n",
       "      <th>Size</th>\n",
       "    </tr>\n",
       "  </thead>\n",
       "  <tbody>\n",
       "    <tr>\n",
       "      <th>count</th>\n",
       "      <td>45.000000</td>\n",
       "      <td>45.000000</td>\n",
       "    </tr>\n",
       "    <tr>\n",
       "      <th>mean</th>\n",
       "      <td>23.000000</td>\n",
       "      <td>130287.600000</td>\n",
       "    </tr>\n",
       "    <tr>\n",
       "      <th>std</th>\n",
       "      <td>13.133926</td>\n",
       "      <td>63825.271991</td>\n",
       "    </tr>\n",
       "    <tr>\n",
       "      <th>min</th>\n",
       "      <td>1.000000</td>\n",
       "      <td>34875.000000</td>\n",
       "    </tr>\n",
       "    <tr>\n",
       "      <th>25%</th>\n",
       "      <td>12.000000</td>\n",
       "      <td>70713.000000</td>\n",
       "    </tr>\n",
       "    <tr>\n",
       "      <th>50%</th>\n",
       "      <td>23.000000</td>\n",
       "      <td>126512.000000</td>\n",
       "    </tr>\n",
       "    <tr>\n",
       "      <th>75%</th>\n",
       "      <td>34.000000</td>\n",
       "      <td>202307.000000</td>\n",
       "    </tr>\n",
       "    <tr>\n",
       "      <th>max</th>\n",
       "      <td>45.000000</td>\n",
       "      <td>219622.000000</td>\n",
       "    </tr>\n",
       "  </tbody>\n",
       "</table>\n",
       "</div>"
      ],
      "text/plain": [
       "           Store           Size\n",
       "count  45.000000      45.000000\n",
       "mean   23.000000  130287.600000\n",
       "std    13.133926   63825.271991\n",
       "min     1.000000   34875.000000\n",
       "25%    12.000000   70713.000000\n",
       "50%    23.000000  126512.000000\n",
       "75%    34.000000  202307.000000\n",
       "max    45.000000  219622.000000"
      ]
     },
     "execution_count": 6,
     "metadata": {},
     "output_type": "execute_result"
    }
   ],
   "source": [
    "stores_df.describe()"
   ]
  },
  {
   "cell_type": "code",
   "execution_count": 7,
   "metadata": {},
   "outputs": [
    {
     "data": {
      "text/html": [
       "<div>\n",
       "<style scoped>\n",
       "    .dataframe tbody tr th:only-of-type {\n",
       "        vertical-align: middle;\n",
       "    }\n",
       "\n",
       "    .dataframe tbody tr th {\n",
       "        vertical-align: top;\n",
       "    }\n",
       "\n",
       "    .dataframe thead th {\n",
       "        text-align: right;\n",
       "    }\n",
       "</style>\n",
       "<table border=\"1\" class=\"dataframe\">\n",
       "  <thead>\n",
       "    <tr style=\"text-align: right;\">\n",
       "      <th></th>\n",
       "      <th>Store</th>\n",
       "      <th>Dept</th>\n",
       "      <th>Date</th>\n",
       "      <th>Weekly_Sales</th>\n",
       "      <th>IsHoliday</th>\n",
       "    </tr>\n",
       "  </thead>\n",
       "  <tbody>\n",
       "    <tr>\n",
       "      <th>0</th>\n",
       "      <td>1</td>\n",
       "      <td>1</td>\n",
       "      <td>2010-02-05</td>\n",
       "      <td>24924.50</td>\n",
       "      <td>False</td>\n",
       "    </tr>\n",
       "    <tr>\n",
       "      <th>1</th>\n",
       "      <td>1</td>\n",
       "      <td>1</td>\n",
       "      <td>2010-02-12</td>\n",
       "      <td>46039.49</td>\n",
       "      <td>True</td>\n",
       "    </tr>\n",
       "    <tr>\n",
       "      <th>2</th>\n",
       "      <td>1</td>\n",
       "      <td>1</td>\n",
       "      <td>2010-02-19</td>\n",
       "      <td>41595.55</td>\n",
       "      <td>False</td>\n",
       "    </tr>\n",
       "    <tr>\n",
       "      <th>3</th>\n",
       "      <td>1</td>\n",
       "      <td>1</td>\n",
       "      <td>2010-02-26</td>\n",
       "      <td>19403.54</td>\n",
       "      <td>False</td>\n",
       "    </tr>\n",
       "    <tr>\n",
       "      <th>4</th>\n",
       "      <td>1</td>\n",
       "      <td>1</td>\n",
       "      <td>2010-03-05</td>\n",
       "      <td>21827.90</td>\n",
       "      <td>False</td>\n",
       "    </tr>\n",
       "  </tbody>\n",
       "</table>\n",
       "</div>"
      ],
      "text/plain": [
       "   Store  Dept        Date  Weekly_Sales  IsHoliday\n",
       "0      1     1  2010-02-05      24924.50      False\n",
       "1      1     1  2010-02-12      46039.49       True\n",
       "2      1     1  2010-02-19      41595.55      False\n",
       "3      1     1  2010-02-26      19403.54      False\n",
       "4      1     1  2010-03-05      21827.90      False"
      ]
     },
     "execution_count": 7,
     "metadata": {},
     "output_type": "execute_result"
    }
   ],
   "source": [
    "train_df.head()"
   ]
  },
  {
   "cell_type": "code",
   "execution_count": 8,
   "metadata": {},
   "outputs": [
    {
     "data": {
      "text/html": [
       "<div>\n",
       "<style scoped>\n",
       "    .dataframe tbody tr th:only-of-type {\n",
       "        vertical-align: middle;\n",
       "    }\n",
       "\n",
       "    .dataframe tbody tr th {\n",
       "        vertical-align: top;\n",
       "    }\n",
       "\n",
       "    .dataframe thead th {\n",
       "        text-align: right;\n",
       "    }\n",
       "</style>\n",
       "<table border=\"1\" class=\"dataframe\">\n",
       "  <thead>\n",
       "    <tr style=\"text-align: right;\">\n",
       "      <th></th>\n",
       "      <th>Store</th>\n",
       "      <th>Dept</th>\n",
       "      <th>Weekly_Sales</th>\n",
       "    </tr>\n",
       "  </thead>\n",
       "  <tbody>\n",
       "    <tr>\n",
       "      <th>count</th>\n",
       "      <td>421570.000000</td>\n",
       "      <td>421570.000000</td>\n",
       "      <td>421570.000000</td>\n",
       "    </tr>\n",
       "    <tr>\n",
       "      <th>mean</th>\n",
       "      <td>22.200546</td>\n",
       "      <td>44.260317</td>\n",
       "      <td>15981.258123</td>\n",
       "    </tr>\n",
       "    <tr>\n",
       "      <th>std</th>\n",
       "      <td>12.785297</td>\n",
       "      <td>30.492054</td>\n",
       "      <td>22711.183519</td>\n",
       "    </tr>\n",
       "    <tr>\n",
       "      <th>min</th>\n",
       "      <td>1.000000</td>\n",
       "      <td>1.000000</td>\n",
       "      <td>-4988.940000</td>\n",
       "    </tr>\n",
       "    <tr>\n",
       "      <th>25%</th>\n",
       "      <td>11.000000</td>\n",
       "      <td>18.000000</td>\n",
       "      <td>2079.650000</td>\n",
       "    </tr>\n",
       "    <tr>\n",
       "      <th>50%</th>\n",
       "      <td>22.000000</td>\n",
       "      <td>37.000000</td>\n",
       "      <td>7612.030000</td>\n",
       "    </tr>\n",
       "    <tr>\n",
       "      <th>75%</th>\n",
       "      <td>33.000000</td>\n",
       "      <td>74.000000</td>\n",
       "      <td>20205.852500</td>\n",
       "    </tr>\n",
       "    <tr>\n",
       "      <th>max</th>\n",
       "      <td>45.000000</td>\n",
       "      <td>99.000000</td>\n",
       "      <td>693099.360000</td>\n",
       "    </tr>\n",
       "  </tbody>\n",
       "</table>\n",
       "</div>"
      ],
      "text/plain": [
       "               Store           Dept   Weekly_Sales\n",
       "count  421570.000000  421570.000000  421570.000000\n",
       "mean       22.200546      44.260317   15981.258123\n",
       "std        12.785297      30.492054   22711.183519\n",
       "min         1.000000       1.000000   -4988.940000\n",
       "25%        11.000000      18.000000    2079.650000\n",
       "50%        22.000000      37.000000    7612.030000\n",
       "75%        33.000000      74.000000   20205.852500\n",
       "max        45.000000      99.000000  693099.360000"
      ]
     },
     "execution_count": 8,
     "metadata": {},
     "output_type": "execute_result"
    }
   ],
   "source": [
    "train_df.describe()"
   ]
  },
  {
   "cell_type": "code",
   "execution_count": 9,
   "metadata": {},
   "outputs": [],
   "source": [
    "# Creating a custom season dictionary to identify the season in each month\n",
    "seasons_dict = {\n",
    "    1:\"Winter\",\n",
    "    2:\"Winter\",\n",
    "    3:\"Spring\",\n",
    "    4:\"Spring\",\n",
    "    5:\"Spring\",\n",
    "    6:\"Summer\",\n",
    "    7:\"Summer\",\n",
    "    8:\"Summer\",\n",
    "    9:\"Fall\",\n",
    "    10:\"Fall\",\n",
    "    11:\"Fall\",\n",
    "    12:\"Winter\"\n",
    "}"
   ]
  },
  {
   "cell_type": "code",
   "execution_count": 10,
   "metadata": {},
   "outputs": [],
   "source": [
    "# Creating the master dataset\n",
    "master_df = train_df.merge(stores_df, on='Store', how='left')\n",
    "master_df = master_df.merge(features_df, on=['Store', 'Date'], how='left')"
   ]
  },
  {
   "cell_type": "code",
   "execution_count": 11,
   "metadata": {},
   "outputs": [
    {
     "data": {
      "text/html": [
       "<div>\n",
       "<style scoped>\n",
       "    .dataframe tbody tr th:only-of-type {\n",
       "        vertical-align: middle;\n",
       "    }\n",
       "\n",
       "    .dataframe tbody tr th {\n",
       "        vertical-align: top;\n",
       "    }\n",
       "\n",
       "    .dataframe thead th {\n",
       "        text-align: right;\n",
       "    }\n",
       "</style>\n",
       "<table border=\"1\" class=\"dataframe\">\n",
       "  <thead>\n",
       "    <tr style=\"text-align: right;\">\n",
       "      <th></th>\n",
       "      <th>Store</th>\n",
       "      <th>Dept</th>\n",
       "      <th>Date</th>\n",
       "      <th>Weekly_Sales</th>\n",
       "      <th>IsHoliday_x</th>\n",
       "      <th>Type</th>\n",
       "      <th>Size</th>\n",
       "      <th>Temperature</th>\n",
       "      <th>Fuel_Price</th>\n",
       "      <th>MarkDown1</th>\n",
       "      <th>MarkDown2</th>\n",
       "      <th>MarkDown3</th>\n",
       "      <th>MarkDown4</th>\n",
       "      <th>MarkDown5</th>\n",
       "      <th>CPI</th>\n",
       "      <th>Unemployment</th>\n",
       "      <th>IsHoliday_y</th>\n",
       "    </tr>\n",
       "  </thead>\n",
       "  <tbody>\n",
       "    <tr>\n",
       "      <th>0</th>\n",
       "      <td>1</td>\n",
       "      <td>1</td>\n",
       "      <td>2010-02-05</td>\n",
       "      <td>24924.50</td>\n",
       "      <td>False</td>\n",
       "      <td>A</td>\n",
       "      <td>151315</td>\n",
       "      <td>42.31</td>\n",
       "      <td>2.572</td>\n",
       "      <td>NaN</td>\n",
       "      <td>NaN</td>\n",
       "      <td>NaN</td>\n",
       "      <td>NaN</td>\n",
       "      <td>NaN</td>\n",
       "      <td>211.096358</td>\n",
       "      <td>8.106</td>\n",
       "      <td>False</td>\n",
       "    </tr>\n",
       "    <tr>\n",
       "      <th>1</th>\n",
       "      <td>1</td>\n",
       "      <td>1</td>\n",
       "      <td>2010-02-12</td>\n",
       "      <td>46039.49</td>\n",
       "      <td>True</td>\n",
       "      <td>A</td>\n",
       "      <td>151315</td>\n",
       "      <td>38.51</td>\n",
       "      <td>2.548</td>\n",
       "      <td>NaN</td>\n",
       "      <td>NaN</td>\n",
       "      <td>NaN</td>\n",
       "      <td>NaN</td>\n",
       "      <td>NaN</td>\n",
       "      <td>211.242170</td>\n",
       "      <td>8.106</td>\n",
       "      <td>True</td>\n",
       "    </tr>\n",
       "  </tbody>\n",
       "</table>\n",
       "</div>"
      ],
      "text/plain": [
       "   Store  Dept        Date  Weekly_Sales  IsHoliday_x Type    Size  \\\n",
       "0      1     1  2010-02-05      24924.50        False    A  151315   \n",
       "1      1     1  2010-02-12      46039.49         True    A  151315   \n",
       "\n",
       "   Temperature  Fuel_Price  MarkDown1  MarkDown2  MarkDown3  MarkDown4  \\\n",
       "0        42.31       2.572        NaN        NaN        NaN        NaN   \n",
       "1        38.51       2.548        NaN        NaN        NaN        NaN   \n",
       "\n",
       "   MarkDown5         CPI  Unemployment  IsHoliday_y  \n",
       "0        NaN  211.096358         8.106        False  \n",
       "1        NaN  211.242170         8.106         True  "
      ]
     },
     "execution_count": 11,
     "metadata": {},
     "output_type": "execute_result"
    }
   ],
   "source": [
    "master_df.head(2)"
   ]
  },
  {
   "cell_type": "markdown",
   "metadata": {},
   "source": [
    "## Preliminary Analysis"
   ]
  },
  {
   "cell_type": "code",
   "execution_count": 12,
   "metadata": {},
   "outputs": [
    {
     "name": "stdout",
     "output_type": "stream",
     "text": [
      "count    421570.000000\n",
      "mean      15981.258123\n",
      "std       22711.183519\n",
      "min       -4988.940000\n",
      "25%        2079.650000\n",
      "50%        7612.030000\n",
      "75%       20205.852500\n",
      "max      693099.360000\n",
      "Name: Weekly_Sales, dtype: float64\n",
      "Percentile less than 3% provides only negative value :  -0.56\n"
     ]
    }
   ],
   "source": [
    "d = copy.deepcopy(master_df)\n",
    "\n",
    "d1 = d[\"Weekly_Sales\"]\n",
    "\n",
    "print(d[\"Weekly_Sales\"].describe())\n",
    "\n",
    "print(\"Percentile less than 3% provides only negative value : \",d[\"Weekly_Sales\"].quantile(0.003))"
   ]
  },
  {
   "cell_type": "code",
   "execution_count": 13,
   "metadata": {},
   "outputs": [
    {
     "data": {
      "image/png": "[encoded data removed]",
      "text/plain": [
       "<Figure size 432x288 with 1 Axes>"
      ]
     },
     "metadata": {
      "needs_background": "light"
     },
     "output_type": "display_data"
    }
   ],
   "source": [
    "x = np.concatenate((d1[d[\"Weekly_Sales\"] < 0], d1[d[\"Weekly_Sales\"] > 0]))\n",
    "\n",
    "plt.hist(x, density=True)\n",
    "\n",
    "plt.xlim([-70496, 200000])\n",
    "plt.xlabel('Weekly Sales Values')\n",
    "plt.ylabel('Normalized Sales Values')\n",
    "plt.title('Normalized distribution of sales values')\n",
    "plt.show()"
   ]
  },
  {
   "cell_type": "markdown",
   "metadata": {},
   "source": [
    "## Data Cleaning"
   ]
  },
  {
   "cell_type": "code",
   "execution_count": 14,
   "metadata": {},
   "outputs": [],
   "source": [
    "# Filling empty markdown columns\n",
    "master_df['MarkDown1'] = master_df['MarkDown1'].fillna(0)\n",
    "master_df['MarkDown2'] = master_df['MarkDown2'].fillna(0)\n",
    "master_df['MarkDown3'] = master_df['MarkDown3'].fillna(0)\n",
    "master_df['MarkDown4'] = master_df['MarkDown4'].fillna(0)\n",
    "master_df['MarkDown5'] = master_df['MarkDown5'].fillna(0)\n",
    "\n",
    "# Cleaning holiday columns\n",
    "master_df['isHoliday'] = master_df['IsHoliday_x']\n",
    "master_df = master_df.drop(columns=['IsHoliday_x', 'IsHoliday_y'])"
   ]
  },
  {
   "cell_type": "code",
   "execution_count": 15,
   "metadata": {},
   "outputs": [],
   "source": [
    "# Handling Date and time\n",
    "master_df['Date'] = pd.to_datetime(master_df['Date'], format='%Y-%m-%d')\n",
    "master_df['Week_Number'] = master_df['Date'].dt.isocalendar().week\n",
    "master_df['Quarter'] = master_df['Date'].dt.quarter\n",
    "master_df['Month'] = master_df['Date'].dt.month.apply(lambda x: calendar.month_abbr[x])\n",
    "master_df['Season'] = (master_df['Date'].apply(lambda dt: (dt.month%12 + 3)//3)).map(seasons_dict)\n",
    "master_df[\"Year\"] = master_df[\"Date\"].dt.year"
   ]
  },
  {
   "cell_type": "markdown",
   "metadata": {},
   "source": [
    "## Creating lagged variables based on time"
   ]
  },
  {
   "cell_type": "code",
   "execution_count": 16,
   "metadata": {},
   "outputs": [],
   "source": [
    "master_df=master_df.sort_values(by=['Store', 'Dept', 'Year', 'Week_Number'], ascending=True)    \n",
    "\n",
    "# Previous week sales\n",
    "shifted_sales = master_df.shift(1)\n",
    "master_df_new_var = master_df.join(shifted_sales[['Store', 'Dept', 'Week_Number', 'Weekly_Sales', 'Year']], rsuffix='_Lag')\n",
    "master_df_new_var.loc[(master_df_new_var.Dept != master_df_new_var.Dept_Lag) |  (master_df_new_var.Store != master_df_new_var.Store_Lag), 'Weekly_Sales_Lag'] = -2\n",
    "\n",
    "# Previous month sales\n",
    "#shifted_sales = master_df.shift(4)\n",
    "#master_df_new_var = master_df_new_var.join(shifted_sales[['Store', 'Dept', 'Week_Number', 'Weekly_Sales', 'Year']], rsuffix='_Lag2')\n",
    "#master_df_new_var['Monthly_Sales_Lag'] = master_df_new_var.Week_Number_Lag2\n",
    "#master_df_new_var.loc[((master_df_new_var.Week_Number - master_df_new_var.Week_Number_Lag2) != 4) , 'Monthly_Sales_Lag'] = 0\n",
    "#master_df_new_var[['Store', 'Dept', 'Week_Number', 'Weekly_Sales', 'Year', 'Weekly_Sales_Lag']]\n",
    "\n",
    "# Average yearly sales\n",
    "#my_df= master_df[['Store','Dept','Week_Number','Weekly_Sales']]\n",
    "#my_df2= my_df.groupby(['Store','Dept','Week_Number']).mean()\n",
    "#master_df.set_index(['Store','Dept','Week_Number'],inplace= True)\n",
    "#df=master_df.join(my_df2, rsuffix='_yearly').reset_index(inplace=True)\n",
    "#master_df_new_var['Yearly_Sales']=df['Weekly_Sales_yearly']"
   ]
  },
  {
   "cell_type": "markdown",
   "metadata": {},
   "source": [
    "Lagged time varibles play a significant role in explaining current trends and seasonal pattern which repeat over a period of time. Furthermore lag variables capture the inherent store features which can get little tricky to zero out"
   ]
  },
  {
   "cell_type": "markdown",
   "metadata": {},
   "source": [
    "## Creating dummy variables for categorical values"
   ]
  },
  {
   "cell_type": "code",
   "execution_count": 17,
   "metadata": {},
   "outputs": [],
   "source": [
    "#forming categorarical variables\n",
    "master_df_new_var = master_df_new_var.join(pd.get_dummies(master_df['Quarter'], prefix='Quarter'))\n",
    "master_df_new_var = master_df_new_var.join(pd.get_dummies(master_df['Season'], prefix='Season'))\n",
    "master_df_new_var = master_df_new_var.join(pd.get_dummies(master_df['Store'], prefix='Store'))\n",
    "master_df_new_var = master_df_new_var.join(pd.get_dummies(master_df['Dept'], prefix='Dept'))\n",
    "master_df_new_var = master_df_new_var.join(pd.get_dummies(master_df['Type'], prefix='Type'))\n",
    "master_df_new_var = master_df_new_var.join(pd.get_dummies(master_df['Week_Number'], prefix='Week_Number'))"
   ]
  },
  {
   "cell_type": "code",
   "execution_count": 18,
   "metadata": {},
   "outputs": [],
   "source": [
    "# Removing wrongly recorded data points\n",
    "master_df_new_var = master_df_new_var.dropna()\n",
    "#master_df_new_var = master_df_new_var.loc[master_df_new_var['Week_Number'] > 4]\n",
    "#master_df_new_var = master_df_new_var.loc[master_df_new_var['Monthly_Sales_Lag'] > 0]\n",
    "master_df_new_var = master_df_new_var.loc[master_df_new_var['Weekly_Sales_Lag'] > 0]\n",
    "master_df_new_var = master_df_new_var.loc[master_df_new_var['Weekly_Sales'] > 0] #keeping points which are only positive in value for the sales"
   ]
  },
  {
   "cell_type": "code",
   "execution_count": 19,
   "metadata": {
    "scrolled": true
   },
   "outputs": [
    {
     "data": {
      "text/html": [
       "<div>\n",
       "<style scoped>\n",
       "    .dataframe tbody tr th:only-of-type {\n",
       "        vertical-align: middle;\n",
       "    }\n",
       "\n",
       "    .dataframe tbody tr th {\n",
       "        vertical-align: top;\n",
       "    }\n",
       "\n",
       "    .dataframe thead th {\n",
       "        text-align: right;\n",
       "    }\n",
       "</style>\n",
       "<table border=\"1\" class=\"dataframe\">\n",
       "  <thead>\n",
       "    <tr style=\"text-align: right;\">\n",
       "      <th></th>\n",
       "      <th>Store</th>\n",
       "      <th>Dept</th>\n",
       "      <th>Date</th>\n",
       "      <th>Weekly_Sales</th>\n",
       "      <th>Type</th>\n",
       "      <th>Size</th>\n",
       "      <th>Temperature</th>\n",
       "      <th>Fuel_Price</th>\n",
       "      <th>MarkDown1</th>\n",
       "      <th>MarkDown2</th>\n",
       "      <th>...</th>\n",
       "      <th>Week_Number_43</th>\n",
       "      <th>Week_Number_44</th>\n",
       "      <th>Week_Number_45</th>\n",
       "      <th>Week_Number_46</th>\n",
       "      <th>Week_Number_47</th>\n",
       "      <th>Week_Number_48</th>\n",
       "      <th>Week_Number_49</th>\n",
       "      <th>Week_Number_50</th>\n",
       "      <th>Week_Number_51</th>\n",
       "      <th>Week_Number_52</th>\n",
       "    </tr>\n",
       "  </thead>\n",
       "  <tbody>\n",
       "    <tr>\n",
       "      <th>1</th>\n",
       "      <td>1</td>\n",
       "      <td>1</td>\n",
       "      <td>2010-02-12</td>\n",
       "      <td>46039.49</td>\n",
       "      <td>A</td>\n",
       "      <td>151315</td>\n",
       "      <td>38.51</td>\n",
       "      <td>2.548</td>\n",
       "      <td>0.0</td>\n",
       "      <td>0.0</td>\n",
       "      <td>...</td>\n",
       "      <td>0</td>\n",
       "      <td>0</td>\n",
       "      <td>0</td>\n",
       "      <td>0</td>\n",
       "      <td>0</td>\n",
       "      <td>0</td>\n",
       "      <td>0</td>\n",
       "      <td>0</td>\n",
       "      <td>0</td>\n",
       "      <td>0</td>\n",
       "    </tr>\n",
       "    <tr>\n",
       "      <th>2</th>\n",
       "      <td>1</td>\n",
       "      <td>1</td>\n",
       "      <td>2010-02-19</td>\n",
       "      <td>41595.55</td>\n",
       "      <td>A</td>\n",
       "      <td>151315</td>\n",
       "      <td>39.93</td>\n",
       "      <td>2.514</td>\n",
       "      <td>0.0</td>\n",
       "      <td>0.0</td>\n",
       "      <td>...</td>\n",
       "      <td>0</td>\n",
       "      <td>0</td>\n",
       "      <td>0</td>\n",
       "      <td>0</td>\n",
       "      <td>0</td>\n",
       "      <td>0</td>\n",
       "      <td>0</td>\n",
       "      <td>0</td>\n",
       "      <td>0</td>\n",
       "      <td>0</td>\n",
       "    </tr>\n",
       "  </tbody>\n",
       "</table>\n",
       "<p>2 rows × 213 columns</p>\n",
       "</div>"
      ],
      "text/plain": [
       "   Store  Dept       Date  Weekly_Sales Type    Size  Temperature  Fuel_Price  \\\n",
       "1      1     1 2010-02-12      46039.49    A  151315        38.51       2.548   \n",
       "2      1     1 2010-02-19      41595.55    A  151315        39.93       2.514   \n",
       "\n",
       "   MarkDown1  MarkDown2  ...  Week_Number_43  Week_Number_44  Week_Number_45  \\\n",
       "1        0.0        0.0  ...               0               0               0   \n",
       "2        0.0        0.0  ...               0               0               0   \n",
       "\n",
       "   Week_Number_46  Week_Number_47  Week_Number_48  Week_Number_49  \\\n",
       "1               0               0               0               0   \n",
       "2               0               0               0               0   \n",
       "\n",
       "   Week_Number_50 Week_Number_51 Week_Number_52  \n",
       "1               0              0              0  \n",
       "2               0              0              0  \n",
       "\n",
       "[2 rows x 213 columns]"
      ]
     },
     "execution_count": 19,
     "metadata": {},
     "output_type": "execute_result"
    }
   ],
   "source": [
    "master_df_new_var.head(2)"
   ]
  },
  {
   "cell_type": "markdown",
   "metadata": {},
   "source": [
    "## Creating interaction variable"
   ]
  },
  {
   "cell_type": "code",
   "execution_count": 20,
   "metadata": {},
   "outputs": [],
   "source": [
    "master_df_new_var['MarkDown'] = master_df_new_var['MarkDown1'] + master_df_new_var['MarkDown2'] + master_df_new_var['MarkDown3'] + master_df_new_var['MarkDown4'] + master_df_new_var['MarkDown5']\n",
    "master_df_new_var['MarkDown*Weekly_Sales_Lag'] = master_df_new_var['MarkDown']*master_df_new_var['Weekly_Sales_Lag']"
   ]
  },
  {
   "cell_type": "markdown",
   "metadata": {},
   "source": [
    "We created an interaction variable as promotional offers (markdown) and weekly sales go hand in hand. They together explain the future weekly sales in a very robust fashion"
   ]
  },
  {
   "cell_type": "markdown",
   "metadata": {},
   "source": [
    "## Model Building"
   ]
  },
  {
   "cell_type": "markdown",
   "metadata": {},
   "source": [
    "### Dividing the dataset into test and train dataset"
   ]
  },
  {
   "cell_type": "markdown",
   "metadata": {},
   "source": [
    "We will do an out of time validation. The model will be trained on first two years data and tested on the last six months data."
   ]
  },
  {
   "cell_type": "code",
   "execution_count": 21,
   "metadata": {},
   "outputs": [],
   "source": [
    "#segregating the data\n",
    "data_test = master_df_new_var[master_df_new_var.Year == 2012]\n",
    "data_train = master_df_new_var[master_df_new_var.Year != 2012]"
   ]
  },
  {
   "cell_type": "markdown",
   "metadata": {},
   "source": [
    "## Building full model linear regression"
   ]
  },
  {
   "cell_type": "code",
   "execution_count": 22,
   "metadata": {},
   "outputs": [],
   "source": [
    "features = list(master_df_new_var)\n",
    "for x in ('Quarter',\n",
    " 'Month',\n",
    " 'Season',\n",
    " 'Year',\n",
    " 'Store',\n",
    " 'Dept',\n",
    " 'Date',\n",
    " 'Type',\n",
    " 'Weekly_Sales',\n",
    " 'Weekly_Sales_Lag'):\n",
    "    features.remove(x)\n",
    "#features"
   ]
  },
  {
   "cell_type": "code",
   "execution_count": 23,
   "metadata": {},
   "outputs": [],
   "source": [
    "# Writing the formula\n",
    "equals_to_str = \"\"\n",
    "for i in features:\n",
    "    equals_to_str = equals_to_str + str(i) + \" + \"\n",
    "\n",
    "equals_to_str = str('Weekly_Sales ~ ') + equals_to_str\n",
    "equals_to_str = equals_to_str[:-3] \n",
    "equals_to_str_promotion = equals_to_str + \"Markdown1\""
   ]
  },
  {
   "cell_type": "code",
   "execution_count": 24,
   "metadata": {
    "scrolled": true
   },
   "outputs": [
    {
     "name": "stdout",
     "output_type": "stream",
     "text": [
      "<class 'pandas.core.frame.DataFrame'>\n",
      "Int64Index: 289299 entries, 1 to 421526\n",
      "Columns: 215 entries, Store to MarkDown*Weekly_Sales_Lag\n",
      "dtypes: UInt32(2), bool(1), datetime64[ns](1), float64(16), int64(5), object(3), uint8(187)\n",
      "memory usage: 112.0+ MB\n"
     ]
    }
   ],
   "source": [
    "data_train.info()"
   ]
  },
  {
   "cell_type": "code",
   "execution_count": 25,
   "metadata": {},
   "outputs": [
    {
     "data": {
      "text/html": [
       "<div>\n",
       "<style scoped>\n",
       "    .dataframe tbody tr th:only-of-type {\n",
       "        vertical-align: middle;\n",
       "    }\n",
       "\n",
       "    .dataframe tbody tr th {\n",
       "        vertical-align: top;\n",
       "    }\n",
       "\n",
       "    .dataframe thead th {\n",
       "        text-align: right;\n",
       "    }\n",
       "</style>\n",
       "<table border=\"1\" class=\"dataframe\">\n",
       "  <thead>\n",
       "    <tr style=\"text-align: right;\">\n",
       "      <th></th>\n",
       "      <th>0</th>\n",
       "    </tr>\n",
       "  </thead>\n",
       "  <tbody>\n",
       "    <tr>\n",
       "      <th>Week_Number</th>\n",
       "      <td>UInt32</td>\n",
       "    </tr>\n",
       "    <tr>\n",
       "      <th>Week_Number_Lag</th>\n",
       "      <td>UInt32</td>\n",
       "    </tr>\n",
       "  </tbody>\n",
       "</table>\n",
       "</div>"
      ],
      "text/plain": [
       "                      0\n",
       "Week_Number      UInt32\n",
       "Week_Number_Lag  UInt32"
      ]
     },
     "execution_count": 25,
     "metadata": {},
     "output_type": "execute_result"
    }
   ],
   "source": [
    "dtype_df = pd.DataFrame(data_train.dtypes)\n",
    "dtype_df[(dtype_df[0] == 'UInt32')]"
   ]
  },
  {
   "cell_type": "code",
   "execution_count": 26,
   "metadata": {},
   "outputs": [],
   "source": [
    "data_train = data_train.astype({'Week_Number' : 'uint32'})\n",
    "data_train = data_train.astype({'Week_Number_Lag' : 'uint32'})"
   ]
  },
  {
   "cell_type": "code",
   "execution_count": 27,
   "metadata": {},
   "outputs": [
    {
     "name": "stdout",
     "output_type": "stream",
     "text": [
      "Model 1 without Promotion \n",
      "                             OLS Regression Results                            \n",
      "==============================================================================\n",
      "Dep. Variable:           Weekly_Sales   R-squared:                       0.895\n",
      "Model:                            OLS   Adj. R-squared:                  0.895\n",
      "Method:                 Least Squares   F-statistic:                 1.301e+04\n",
      "Date:                Thu, 17 Mar 2022   Prob (F-statistic):               0.00\n",
      "Time:                        20:03:25   Log-Likelihood:            -2.9899e+06\n",
      "No. Observations:              289299   AIC:                         5.980e+06\n",
      "Df Residuals:                  289109   BIC:                         5.982e+06\n",
      "Df Model:                         189                                         \n",
      "Covariance Type:            nonrobust                                         \n",
      "=============================================================================================\n",
      "                                coef    std err          t      P>|t|      [0.025      0.975]\n",
      "---------------------------------------------------------------------------------------------\n",
      "Intercept                 -1.854e+05   1.04e+05     -1.777      0.076    -3.9e+05    1.91e+04\n",
      "isHoliday[T.True]          3141.4063   2314.944      1.357      0.175   -1395.819    7678.631\n",
      "Size                         -0.2797      0.170     -1.647      0.100      -0.613       0.053\n",
      "Temperature                   3.5664      3.143      1.135      0.257      -2.594       9.727\n",
      "Fuel_Price                 -427.6667    126.459     -3.382      0.001    -675.523    -179.810\n",
      "MarkDown1                     0.0386      0.016      2.443      0.015       0.008       0.070\n",
      "MarkDown2                     0.0282      0.007      3.996      0.000       0.014       0.042\n",
      "MarkDown3                     0.0439      0.006      6.942      0.000       0.032       0.056\n",
      "MarkDown4                    -0.0695      0.032     -2.156      0.031      -0.133      -0.006\n",
      "MarkDown5                    -0.0239      0.012     -2.025      0.043      -0.047      -0.001\n",
      "CPI                          10.3677     19.796      0.524      0.600     -28.432      49.167\n",
      "Unemployment               -221.7131     53.176     -4.169      0.000    -325.936    -117.490\n",
      "Week_Number               -1868.1646   1043.953     -1.790      0.074   -3914.283     177.953\n",
      "Store_Lag                  -970.5793    555.504     -1.747      0.081   -2059.352     118.193\n",
      "Dept_Lag                   -113.8412     69.556     -1.637      0.102    -250.169      22.487\n",
      "Week_Number_Lag              11.4690     13.855      0.828      0.408     -15.686      38.624\n",
      "Year_Lag                    253.2183    143.744      1.762      0.078     -28.516     534.952\n",
      "Quarter_1                  -8.11e+04   4.57e+04     -1.775      0.076   -1.71e+05    8428.176\n",
      "Quarter_2                 -5.855e+04    3.3e+04     -1.776      0.076   -1.23e+05    6083.364\n",
      "Quarter_3                  -2.31e+04   1.28e+04     -1.798      0.072   -4.83e+04    2074.124\n",
      "Quarter_4                 -2.265e+04   1.28e+04     -1.763      0.078   -4.78e+04    2536.507\n",
      "Season_Spring             -9.448e+04   5.33e+04     -1.773      0.076   -1.99e+05    9979.204\n",
      "Season_Winter             -9.092e+04   5.11e+04     -1.781      0.075   -1.91e+05    9140.404\n",
      "Store_1                   -3.027e+04   1.69e+04     -1.788      0.074   -6.34e+04    2907.681\n",
      "Store_2                   -1.412e+04   7725.781     -1.828      0.068   -2.93e+04    1017.577\n",
      "Store_3                   -3.877e+04   2.12e+04     -1.833      0.067   -8.02e+04    2689.234\n",
      "Store_4                   -1.025e+04   7094.505     -1.445      0.148   -2.42e+04    3652.443\n",
      "Store_5                   -3.788e+04   2.05e+04     -1.849      0.064    -7.8e+04    2270.216\n",
      "Store_6                   -1.122e+04   5438.487     -2.063      0.039   -2.19e+04    -562.862\n",
      "Store_7                   -2.446e+04   1.36e+04     -1.798      0.072   -5.11e+04    2207.951\n",
      "Store_8                   -2.411e+04   1.23e+04     -1.955      0.051   -4.83e+04      62.433\n",
      "Store_9                   -8101.3102   2861.830     -2.831      0.005   -1.37e+04   -2492.202\n",
      "Store_10                  -2335.7038   3302.373     -0.707      0.479   -8808.263    4136.855\n",
      "Store_11                  -5383.4968   1876.037     -2.870      0.004   -9060.477   -1706.516\n",
      "Store_12                  -5234.3704   4693.274     -1.115      0.265   -1.44e+04    3964.316\n",
      "Store_13                   2402.0132    800.322      3.001      0.003     833.405    3970.622\n",
      "Store_14                  -1918.2453   1650.688     -1.162      0.245   -5153.548    1317.057\n",
      "Store_15                  -1259.7580    988.249     -1.275      0.202   -3196.699     677.183\n",
      "Store_16                  -2.009e+04   1.09e+04     -1.850      0.064   -4.14e+04    1200.117\n",
      "Store_17                  -7608.9953   5028.149     -1.513      0.130   -1.75e+04    2246.037\n",
      "Store_18                   1979.3553    566.120      3.496      0.000     869.775    3088.935\n",
      "Store_19                   2799.6122   1198.772      2.335      0.020     450.052    5149.173\n",
      "Store_20                   4288.1977   2532.351      1.693      0.090    -675.139    9251.535\n",
      "Store_21                   8472.9871   6298.322      1.345      0.179   -3871.548    2.08e+04\n",
      "Store_22                   5215.2602   2408.051      2.166      0.030     495.547    9934.973\n",
      "Store_23                   4878.1100   2144.534      2.275      0.023     674.883    9081.337\n",
      "Store_24                   7500.0555   3840.076      1.953      0.051     -26.386     1.5e+04\n",
      "Store_25                   8922.5927   6409.258      1.392      0.164   -3639.375    2.15e+04\n",
      "Store_26                  -5775.8002   3857.201     -1.497      0.134   -1.33e+04    1784.206\n",
      "Store_27                   1.132e+04   5602.625      2.021      0.043     340.946    2.23e+04\n",
      "Store_28                   1.322e+04   6294.479      2.100      0.036     879.208    2.56e+04\n",
      "Store_29                   4127.0402   1822.582      2.264      0.024     554.831    7699.249\n",
      "Store_30                  -1.965e+04   1.01e+04     -1.950      0.051   -3.94e+04      96.617\n",
      "Store_31                   1.325e+04   8672.043      1.528      0.126   -3745.192    3.02e+04\n",
      "Store_32                     1.4e+04   8798.798      1.591      0.112   -3246.252    3.12e+04\n",
      "Store_33                  -3.235e+04   1.92e+04     -1.687      0.092   -6.99e+04    5243.912\n",
      "Store_34                   3807.5308   1550.619      2.455      0.014     768.360    6846.702\n",
      "Store_35                   1.327e+04   6892.232      1.925      0.054    -240.386    2.68e+04\n",
      "Store_36                   -3.01e+04   1.64e+04     -1.831      0.067   -6.23e+04    2121.050\n",
      "Store_37                  -1.342e+04   6743.347     -1.990      0.047   -2.66e+04    -203.746\n",
      "Store_38                  -1.067e+04   7347.620     -1.453      0.146   -2.51e+04    3726.347\n",
      "Store_39                   1.572e+04   9763.670      1.610      0.107   -3413.191    3.49e+04\n",
      "Store_40                   7795.1040   4480.209      1.740      0.082    -985.981    1.66e+04\n",
      "Store_41                   2.071e+04   1.27e+04      1.632      0.103   -4167.060    4.56e+04\n",
      "Store_42                  -7312.0126   5037.487     -1.452      0.147   -1.72e+04    2561.322\n",
      "Store_43                  -6406.4588   3366.585     -1.903      0.057    -1.3e+04     191.953\n",
      "Store_44                  -6567.5906   3891.282     -1.688      0.091   -1.42e+04    1059.213\n",
      "Store_45                   2.621e+04   1.55e+04      1.690      0.091   -4181.560    5.66e+04\n",
      "Dept_1                    -6303.0222   4426.622     -1.424      0.154    -1.5e+04    2373.033\n",
      "Dept_2                    -2623.7352   4357.506     -0.602      0.547   -1.12e+04    5916.856\n",
      "Dept_3                    -7402.0179   4287.458     -1.726      0.084   -1.58e+04    1001.281\n",
      "Dept_4                    -5090.8392   4218.147     -1.207      0.227   -1.34e+04    3176.612\n",
      "Dept_5                    -5197.3406   4148.634     -1.253      0.210   -1.33e+04    2933.866\n",
      "Dept_6                    -8062.8397   4078.869     -1.977      0.048   -1.61e+04     -68.371\n",
      "Dept_7                    -4212.8940   4009.685     -1.051      0.293   -1.21e+04    3645.978\n",
      "Dept_8                    -4017.4380   3940.168     -1.020      0.308   -1.17e+04    3705.182\n",
      "Dept_9                    -5372.4236   3870.509     -1.388      0.165    -1.3e+04    2213.666\n",
      "Dept_10                   -5538.7439   3800.964     -1.457      0.145    -1.3e+04    1911.039\n",
      "Dept_11                   -5981.4504   3731.415     -1.603      0.109   -1.33e+04    1332.019\n",
      "Dept_12                   -7508.1484   3661.825     -2.050      0.040   -1.47e+04    -331.072\n",
      "Dept_13                   -3409.3982   3592.640     -0.949      0.343   -1.05e+04    3632.077\n",
      "Dept_14                   -5414.0343   3522.927     -1.537      0.124   -1.23e+04    1490.804\n",
      "Dept_16                   -5631.5358   3383.868     -1.664      0.096   -1.23e+04    1000.751\n",
      "Dept_17                   -5931.0978   3314.359     -1.790      0.074   -1.24e+04     564.953\n",
      "Dept_18                   -5722.6322   3244.541     -1.764      0.078   -1.21e+04     636.578\n",
      "Dept_19                   -7503.9667   3176.059     -2.363      0.018   -1.37e+04   -1278.980\n",
      "Dept_20                   -6492.5192   3106.066     -2.090      0.037   -1.26e+04    -404.717\n",
      "Dept_21                   -6298.9383   3036.348     -2.075      0.038   -1.23e+04    -347.781\n",
      "Dept_22                   -5555.7252   2967.371     -1.872      0.061   -1.14e+04     260.240\n",
      "Dept_23                   -3166.7020   2897.720     -1.093      0.274   -8846.152    2512.748\n",
      "Dept_24                   -6055.7974   2828.148     -2.141      0.032   -1.16e+04    -512.706\n",
      "Dept_25                   -5247.4382   2758.519     -1.902      0.057   -1.07e+04     159.183\n",
      "Dept_26                   -5509.2871   2689.062     -2.049      0.040   -1.08e+04    -238.801\n",
      "Dept_27                   -6431.3342   2619.848     -2.455      0.014   -1.16e+04   -1296.504\n",
      "Dept_28                   -6289.3747   2550.120     -2.466      0.014   -1.13e+04   -1291.210\n",
      "Dept_29                   -5621.8736   2481.060     -2.266      0.023   -1.05e+04    -759.066\n",
      "Dept_30                   -5813.6197   2411.659     -2.411      0.016   -1.05e+04   -1086.836\n",
      "Dept_31                   -5702.8260   2341.774     -2.435      0.015   -1.03e+04   -1113.013\n",
      "Dept_32                   -4819.2765   2272.532     -2.121      0.034   -9273.377    -365.176\n",
      "Dept_33                   -5016.2701   2203.315     -2.277      0.023   -9334.707    -697.834\n",
      "Dept_34                   -3610.6237   2134.051     -1.692      0.091   -7793.304     572.056\n",
      "Dept_35                   -5409.4612   2064.646     -2.620      0.009   -9456.110   -1362.813\n",
      "Dept_36                   -5416.7654   1995.293     -2.715      0.007   -9327.485   -1506.046\n",
      "Dept_37                   -5806.3194   1929.985     -3.008      0.003   -9589.037   -2023.602\n",
      "Dept_38                    3890.9829   1857.248      2.095      0.036     250.828    7531.138\n",
      "Dept_39                   -6490.1476   4599.833     -1.411      0.158   -1.55e+04    2525.398\n",
      "Dept_40                    1764.6149   1718.028      1.027      0.304   -1602.672    5131.902\n",
      "Dept_41                   -4802.0859   1648.516     -2.913      0.004   -8033.131   -1571.041\n",
      "Dept_42                   -3932.2835   1578.730     -2.491      0.013   -7026.550    -838.017\n",
      "Dept_43                   -3842.9274   5411.235     -0.710      0.478   -1.44e+04    6762.943\n",
      "Dept_44                   -4048.9988   1440.623     -2.811      0.005   -6872.580   -1225.417\n",
      "Dept_45                   -4836.5891   1376.473     -3.514      0.000   -7534.438   -2138.740\n",
      "Dept_46                   -1119.0899   1301.918     -0.860      0.390   -3670.812    1432.632\n",
      "Dept_47                   -4589.1828   1346.419     -3.408      0.001   -7228.126   -1950.240\n",
      "Dept_48                   -4957.6817   1178.957     -4.205      0.000   -7268.405   -2646.959\n",
      "Dept_49                   -3272.3487   1097.922     -2.980      0.003   -5424.246   -1120.451\n",
      "Dept_50                   -4548.7542   1044.065     -4.357      0.000   -6595.093   -2502.415\n",
      "Dept_51                   -3848.2095    968.478     -3.973      0.000   -5746.399   -1950.020\n",
      "Dept_52                   -3305.7206    888.071     -3.722      0.000   -5046.315   -1565.126\n",
      "Dept_54                   -3748.5858    753.467     -4.975      0.000   -5225.360   -2271.812\n",
      "Dept_55                   -1443.7635    683.810     -2.111      0.035   -2784.012    -103.515\n",
      "Dept_56                   -2756.1693    615.389     -4.479      0.000   -3962.315   -1550.023\n",
      "Dept_58                   -2935.5492    485.499     -6.046      0.000   -3887.113   -1983.985\n",
      "Dept_59                   -2646.1643    414.537     -6.383      0.000   -3458.645   -1833.684\n",
      "Dept_60                   -2595.3687    352.475     -7.363      0.000   -3286.209   -1904.528\n",
      "Dept_65                    4735.8591    746.947      6.340      0.000    3271.864    6199.854\n",
      "Dept_67                    -693.8100    216.374     -3.207      0.001   -1117.898    -269.722\n",
      "Dept_71                    -895.7900    468.495     -1.912      0.056   -1814.028      22.448\n",
      "Dept_72                    7000.1732    533.997     13.109      0.000    5953.553    8046.793\n",
      "Dept_74                    1071.6625    667.559      1.605      0.108    -236.735    2380.060\n",
      "Dept_77                   -2485.0732   1361.532     -1.825      0.068   -5153.638     183.491\n",
      "Dept_78                   -1168.8206   1204.534     -0.970      0.332   -3529.674    1192.033\n",
      "Dept_79                    2783.8129   1010.255      2.756      0.006     803.742    4763.884\n",
      "Dept_80                    1369.9284   1080.094      1.268      0.205    -747.026    3486.883\n",
      "Dept_81                    2032.4815   1148.269      1.770      0.077    -218.093    4283.056\n",
      "Dept_82                    2437.4547   1217.319      2.002      0.045      51.543    4823.367\n",
      "Dept_83                     348.6783   1287.129      0.271      0.786   -2174.059    2871.416\n",
      "Dept_85                     463.7155   1425.434      0.325      0.745   -2330.095    3257.526\n",
      "Dept_87                    2386.6218   1563.421      1.527      0.127    -677.640    5450.884\n",
      "Dept_90                    7569.0178   1771.185      4.273      0.000    4097.544     1.1e+04\n",
      "Dept_91                    5844.6642   1840.521      3.176      0.001    2237.295    9452.033\n",
      "Dept_92                    1.219e+04   1910.214      6.380      0.000    8443.452    1.59e+04\n",
      "Dept_93                    5039.1639   1979.560      2.546      0.011    1159.281    8919.047\n",
      "Dept_94                    6350.0133   2049.430      3.098      0.002    2333.188    1.04e+04\n",
      "Dept_95                    1.171e+04   2118.258      5.529      0.000    7560.939    1.59e+04\n",
      "Dept_96                    3885.4562   2188.443      1.775      0.076    -403.832    8174.744\n",
      "Dept_97                    3656.9198   2257.115      1.620      0.105    -766.963    8080.803\n",
      "Dept_98                    2630.8853   2327.092      1.131      0.258   -1930.149    7191.920\n",
      "Dept_99                    -410.7007   2437.369     -0.169      0.866   -5187.876    4366.475\n",
      "Type_A                    -4.869e+04   2.71e+04     -1.798      0.072   -1.02e+05    4376.077\n",
      "Type_B                    -7.268e+04    4.1e+04     -1.771      0.077   -1.53e+05    7753.089\n",
      "Type_C                    -6.403e+04   3.62e+04     -1.767      0.077   -1.35e+05    6991.590\n",
      "Week_Number_1             -1.651e+04   9375.831     -1.760      0.078   -3.49e+04    1870.762\n",
      "Week_Number_2              -1.57e+04   8347.813     -1.881      0.060   -3.21e+04     661.684\n",
      "Week_Number_3             -1.325e+04   7301.190     -1.815      0.070   -2.76e+04    1057.550\n",
      "Week_Number_4             -1.174e+04   6256.079     -1.877      0.061    -2.4e+04     518.259\n",
      "Week_Number_5             -7310.5179   5212.321     -1.403      0.161   -1.75e+04    2905.486\n",
      "Week_Number_6              -1.04e+04   6444.516     -1.614      0.106    -2.3e+04    2226.619\n",
      "Week_Number_7             -5188.3810   3087.876     -1.680      0.093   -1.12e+04     863.770\n",
      "Week_Number_8             -5017.9015   2043.485     -2.456      0.014   -9023.075   -1012.728\n",
      "Week_Number_9              -832.8296    991.264     -0.840      0.401   -2775.679    1110.019\n",
      "Week_Number_10             -350.2541    131.279     -2.668      0.008    -607.558     -92.950\n",
      "Week_Number_11             1865.6036   1120.655      1.665      0.096    -330.849    4062.056\n",
      "Week_Number_12             3338.8368   2160.353      1.546      0.122    -895.395    7573.069\n",
      "Week_Number_13            -1.579e+04   9496.636     -1.663      0.096   -3.44e+04    2822.158\n",
      "Week_Number_14            -1.504e+04   8447.847     -1.780      0.075   -3.16e+04    1518.044\n",
      "Week_Number_15            -1.359e+04   7398.608     -1.837      0.066   -2.81e+04     909.449\n",
      "Week_Number_16            -1.072e+04   6353.356     -1.687      0.092   -2.32e+04    1735.812\n",
      "Week_Number_17            -1.039e+04   5308.402     -1.957      0.050   -2.08e+04      14.723\n",
      "Week_Number_18            -6217.2539   4259.936     -1.459      0.144   -1.46e+04    2132.103\n",
      "Week_Number_19            -6335.2311   3216.548     -1.970      0.049   -1.26e+04     -30.886\n",
      "Week_Number_20            -4078.4224   2176.595     -1.874      0.061   -8344.489     187.644\n",
      "Week_Number_21            -1379.8928   1144.226     -1.206      0.228   -3622.543     862.757\n",
      "Week_Number_22             4453.8489   2145.203      2.076      0.038     249.310    8658.388\n",
      "Week_Number_23             4830.3709   3183.677      1.517      0.129   -1409.547    1.11e+04\n",
      "Week_Number_24             7119.6507   4222.585      1.686      0.092   -1156.498    1.54e+04\n",
      "Week_Number_25             8580.2554   5263.891      1.630      0.103   -1736.824    1.89e+04\n",
      "Week_Number_26            -2.399e+04   1.38e+04     -1.734      0.083   -5.11e+04    3121.949\n",
      "Week_Number_27            -2.286e+04   1.28e+04     -1.787      0.074   -4.79e+04    2210.824\n",
      "Week_Number_28            -2.158e+04   1.17e+04     -1.837      0.066   -4.46e+04    1448.098\n",
      "Week_Number_29            -1.941e+04   1.07e+04     -1.813      0.070   -4.04e+04    1570.897\n",
      "Week_Number_30            -1.762e+04   9660.586     -1.824      0.068   -3.66e+04    1314.279\n",
      "Week_Number_31            -1.412e+04   8616.845     -1.639      0.101    -3.1e+04    2764.531\n",
      "Week_Number_32            -1.404e+04   7574.449     -1.854      0.064   -2.89e+04     804.748\n",
      "Week_Number_33            -1.146e+04   6536.621     -1.753      0.080   -2.43e+04    1354.542\n",
      "Week_Number_34            -9911.7507   5497.413     -1.803      0.071   -2.07e+04     863.026\n",
      "Week_Number_35            -8092.0312   4456.016     -1.816      0.069   -1.68e+04     641.637\n",
      "Week_Number_36            -9284.8328   5727.167     -1.621      0.105   -2.05e+04    1940.255\n",
      "Week_Number_37            -5200.6374   2371.721     -2.193      0.028   -9849.144    -552.131\n",
      "Week_Number_38            -3023.7859   1333.746     -2.267      0.023   -5637.890    -409.682\n",
      "Week_Number_39             -938.4665    301.490     -3.113      0.002   -1529.379    -347.554\n",
      "Week_Number_40             1972.5774    772.499      2.554      0.011     458.502    3486.653\n",
      "Week_Number_41             1862.6703   1810.726      1.029      0.304   -1686.301    5411.642\n",
      "Week_Number_42             4676.7876   2855.103      1.638      0.101    -919.134    1.03e+04\n",
      "Week_Number_43             6443.3959   3896.871      1.653      0.098   -1194.363    1.41e+04\n",
      "Week_Number_44             9090.4337   4937.294      1.841      0.066    -586.526    1.88e+04\n",
      "Week_Number_45             1.012e+04   5986.101      1.691      0.091   -1612.293    2.19e+04\n",
      "Week_Number_46             1.154e+04   7028.564      1.642      0.101   -2235.246    2.53e+04\n",
      "Week_Number_47             1.637e+04   5754.840      2.844      0.004    5086.901    2.76e+04\n",
      "Week_Number_48             8124.1904   6863.963      1.184      0.237   -5328.986    2.16e+04\n",
      "Week_Number_49             1.636e+04   7904.080      2.070      0.038     866.906    3.19e+04\n",
      "Week_Number_50             1.821e+04   8944.561      2.036      0.042     677.642    3.57e+04\n",
      "Week_Number_51             2.458e+04   9985.019      2.462      0.014    5011.576    4.42e+04\n",
      "Week_Number_52             6449.6436   8722.943      0.739      0.460   -1.06e+04    2.35e+04\n",
      "MarkDown                      0.0578      0.006      9.756      0.000       0.046       0.069\n",
      "Weekly_Sales_Lag              0.8555      0.001    806.915      0.000       0.853       0.858\n",
      "MarkDown:Weekly_Sales_Lag -3.052e-06   3.69e-08    -82.669      0.000   -3.12e-06   -2.98e-06\n",
      "==============================================================================\n",
      "Omnibus:                   448685.935   Durbin-Watson:                   2.539\n",
      "Prob(Omnibus):                  0.000   Jarque-Bera (JB):      10881679237.725\n",
      "Skew:                           8.490   Prob(JB):                         0.00\n",
      "Kurtosis:                     952.972   Cond. No.                     9.46e+22\n",
      "==============================================================================\n",
      "\n",
      "Notes:\n",
      "[1] Standard Errors assume that the covariance matrix of the errors is correctly specified.\n",
      "[2] The smallest eigenvalue is 7.97e-24. This might indicate that there are\n",
      "strong multicollinearity problems or that the design matrix is singular.\n"
     ]
    }
   ],
   "source": [
    "result_fullmodel = sm.ols(formula=equals_to_str, data = data_train).fit()\n",
    "print(\"Model 1 without Promotion \\n\",result_fullmodel.summary())"
   ]
  },
  {
   "cell_type": "markdown",
   "metadata": {},
   "source": [
    "## Exploratory Analysis and descriptive statistics"
   ]
  },
  {
   "cell_type": "code",
   "execution_count": 28,
   "metadata": {},
   "outputs": [
    {
     "data": {
      "image/png": "[encoded data removed]",
      "text/plain": [
       "<Figure size 432x288 with 1 Axes>"
      ]
     },
     "metadata": {
      "needs_background": "light"
     },
     "output_type": "display_data"
    }
   ],
   "source": [
    "unique_dept_values = master_df_new_var.Dept.unique() #getting unique values of store by department type\n",
    "unique_data_string = []    #creating null list\n",
    "mark = []\n",
    "\n",
    "#creating unique list containing names of department for creating labels for the graph\n",
    "for counter in range(0, len(unique_dept_values)):\n",
    "    if unique_dept_values[counter] == 38 or unique_dept_values[counter] == 92 or unique_dept_values[counter] == 95:\n",
    "        unique_data_string.append(\"Dept-\" + str(unique_dept_values[counter]))\n",
    "        mark.append(\"+\")\n",
    "    else:\n",
    "        unique_data_string.append(\"\")\n",
    "        mark.append(\"o\")\n",
    "\n",
    "\n",
    "mean_sales = []   #creating list of mean sales\n",
    "for intcounter in unique_dept_values:\n",
    "    mean_sales.append(data_train[data_train[\"Dept_\" + str(intcounter)]==1][\"Weekly_Sales\"].mean()) #estimating mean sales for store by department type\n",
    "\n",
    "#creating formula for regression\n",
    "equals_to_str_dept = \"Weekly_Sales ~ Weekly_Sales_Lag + isHoliday + Temperature + Type_A + Type_B + Type_C+ Week_Number_50 + Week_Number_51 + \" \n",
    "for intcounter in range(len(unique_dept_values)):\n",
    "    if intcounter != len(unique_dept_values)-1:\n",
    "        equals_to_str_dept = equals_to_str_dept + \"Dept_\" + str(unique_dept_values[intcounter]) + \" + \"\n",
    "    else:\n",
    "        equals_to_str_dept = equals_to_str_dept + \"Dept_\" + str(unique_dept_values[intcounter])\n",
    "\n",
    "#running regression with relevant variables and all the department type to calculate which department type impacts the weekly sales the most\n",
    "result_with_dpt = sm.ols(formula=equals_to_str_dept, data = data_train).fit()\n",
    "result_list = result_with_dpt.tvalues #calculating t value to zero in on important parameters\n",
    "result_tstat = []\n",
    " \n",
    "for intcounter in range(9,90):\n",
    "    result_tstat.append(result_list[intcounter]) #getting t stat value for each department and store type\n",
    " \n",
    "fig, ax = plt.subplots()\n",
    "ax.scatter(result_tstat, mean_sales) #making a scatter plot to highlight high performing departments\n",
    "plt.xlabel('T- statistics')\n",
    "plt.ylabel('Mean Weekly Sales')\n",
    "plt.title('Mean weekly sales by department type')\n",
    "\n",
    "for i, txt in enumerate(unique_data_string):\n",
    "    ax.annotate(txt, (result_tstat[i],mean_sales[i])) #identifying the high performing graph and labelling them"
   ]
  },
  {
   "cell_type": "markdown",
   "metadata": {},
   "source": [
    "The graph here illustrates Department 38, 95 and 92 performing extra-ordinarily in terms of mean weekly sales. T-statistics are the values obtained by keeping all the departments as an independent variable in the full model and then observing the significance of these varibles in getting to the response variable (future weekly sale)\n",
    "\n",
    "We have found out the next set of important variables. They include size, markdown and yearly lag."
   ]
  },
  {
   "cell_type": "code",
   "execution_count": 29,
   "metadata": {},
   "outputs": [
    {
     "data": {
      "image/png": "[encoded data removed]",
      "text/plain": [
       "<Figure size 432x288 with 1 Axes>"
      ]
     },
     "metadata": {
      "needs_background": "light"
     },
     "output_type": "display_data"
    }
   ],
   "source": [
    "ax= sns.barplot(x=\"Store\", y=\"Weekly_Sales\",  data=master_df_new_var)\n",
    "ax.set_xticklabels(ax.get_xticklabels(), fontsize=7)\n",
    "plt.tight_layout()\n",
    "plt.show()"
   ]
  },
  {
   "cell_type": "code",
   "execution_count": 30,
   "metadata": {},
   "outputs": [
    {
     "data": {
      "image/png": "[encoded data removed]",
      "text/plain": [
       "<Figure size 432x288 with 1 Axes>"
      ]
     },
     "metadata": {
      "needs_background": "light"
     },
     "output_type": "display_data"
    }
   ],
   "source": [
    "sns.barplot(x=\"Year\", y=\"Weekly_Sales\", hue=\"Type\", data=master_df)\n",
    "plt.show()"
   ]
  },
  {
   "cell_type": "code",
   "execution_count": 31,
   "metadata": {},
   "outputs": [
    {
     "data": {
      "image/png": "[encoded data removed]",
      "text/plain": [
       "<Figure size 432x288 with 1 Axes>"
      ]
     },
     "metadata": {
      "needs_background": "light"
     },
     "output_type": "display_data"
    }
   ],
   "source": [
    "df_corr = master_df.corr()\n",
    "ax=df_corr[['Weekly_Sales']].plot(kind='bar')\n",
    "plt.xlabel('Attribute')\n",
    "plt.ylabel('Correlation')\n",
    "plt.title('Correlation of Weekly sales with other variables')\n",
    "plt.tight_layout()\n",
    "plt.show()"
   ]
  },
  {
   "cell_type": "code",
   "execution_count": 32,
   "metadata": {},
   "outputs": [
    {
     "data": {
      "image/png": "[encoded data removed]",
      "text/plain": [
       "<Figure size 1440x504 with 2 Axes>"
      ]
     },
     "metadata": {
      "needs_background": "light"
     },
     "output_type": "display_data"
    }
   ],
   "source": [
    "heat_df= master_df[['Store','Dept','Weekly_Sales']]\n",
    "heat_map=heat_df.groupby(['Store','Dept']).mean()\n",
    "heat_map.reset_index(inplace=True)\n",
    "heat_map=heat_map.pivot('Store','Dept','Weekly_Sales')\n",
    "fig, ax = plt.subplots(figsize=(20,7))\n",
    "sns.heatmap(heat_map, cmap=\"YlGnBu\", ax=ax)\n",
    "plt.xlabel('Department')\n",
    "plt.ylabel('Store')\n",
    "plt.title('A heatmap indicating average sales of various departments')\n",
    "plt.tight_layout()\n",
    "plt.show()"
   ]
  },
  {
   "cell_type": "code",
   "execution_count": 33,
   "metadata": {},
   "outputs": [
    {
     "data": {
      "image/png": "[encoded data removed]",
      "text/plain": [
       "<Figure size 432x288 with 1 Axes>"
      ]
     },
     "metadata": {
      "needs_background": "light"
     },
     "output_type": "display_data"
    }
   ],
   "source": [
    "#function to draw pair plot\n",
    "def drawpairplot(total_clusters, data, blnDraw):\n",
    "    kmeans=KMeans(n_clusters=total_clusters).fit(data)\n",
    "    data['Cluster']=kmeans.labels_\n",
    "    if blnDraw:\n",
    "        sns.pairplot(data,hue='Cluster')\n",
    "\n",
    "df = copy.deepcopy(master_df)   #creating a copy of the data frame to not change the master data frame\n",
    "df[\"Type\"] = df['Type'].map({'A': int(0), 'B': int(1), 'C': int(2)}) #giving numberical values to different store types\n",
    "\n",
    "nClusters = range(2,7)  #defining a range of clusters between 2 and 7\n",
    "rel_cols=['Type', 'Weekly_Sales'] #defining the relevant columns in the data set on which clustering needs to run\n",
    "\n",
    "sumDistances=[]\n",
    "\n",
    "#calculating SSE\n",
    "for n in nClusters:\n",
    "    kmeans=KMeans(n_clusters=n).fit(df[rel_cols])\n",
    "    sumDistances.append(kmeans.inertia_) #Proxy for SSE\n",
    "\n",
    "# Plotting the elbow graph\n",
    "plt.plot(nClusters,sumDistances,'-')\n",
    "plt.xlabel('nClusters')\n",
    "plt.ylabel('Sum Of Distances')\n",
    "plt.show()"
   ]
  },
  {
   "cell_type": "code",
   "execution_count": 34,
   "metadata": {},
   "outputs": [
    {
     "name": "stdout",
     "output_type": "stream",
     "text": [
      "As we see a slight kink at cluster = 3. Assuming cluster as 3 and plotting the pair plot\n"
     ]
    },
    {
     "name": "stderr",
     "output_type": "stream",
     "text": [
      "<ipython-input-33-40a0a908ac1b>:4: SettingWithCopyWarning: \n",
      "A value is trying to be set on a copy of a slice from a DataFrame.\n",
      "Try using .loc[row_indexer,col_indexer] = value instead\n",
      "\n",
      "See the caveats in the documentation: https://pandas.pydata.org/pandas-docs/stable/user_guide/indexing.html#returning-a-view-versus-a-copy\n",
      "  data['Cluster']=kmeans.labels_\n"
     ]
    },
    {
     "data": {
      "image/png": "[encoded data removed]",
      "text/plain": [
       "<Figure size 403.5x360 with 6 Axes>"
      ]
     },
     "metadata": {
      "needs_background": "light"
     },
     "output_type": "display_data"
    }
   ],
   "source": [
    "print(\"As we see a slight kink at cluster = 3. Assuming cluster as 3 and plotting the pair plot\")\n",
    "drawpairplot(3,df[rel_cols],True) #drawing pair plot for 3 clusters"
   ]
  },
  {
   "cell_type": "markdown",
   "metadata": {},
   "source": [
    "## Variable Shortlisting based on above analysis"
   ]
  },
  {
   "cell_type": "code",
   "execution_count": 35,
   "metadata": {},
   "outputs": [],
   "source": [
    "features = ['isHoliday', 'Temperature', 'Weekly_Sales_Lag']#, 'Size', 'MarkDown5', 'master_df_new_var']\n",
    "features.extend(master_df_new_var.columns[master_df_new_var.columns.str.startswith('Type')])\n",
    "features.remove('Type')"
   ]
  },
  {
   "cell_type": "code",
   "execution_count": 36,
   "metadata": {},
   "outputs": [],
   "source": [
    "equals_to_str = \"\"\n",
    "\n",
    "for i in features:\n",
    "    equals_to_str = equals_to_str + str(i) + \" + \"\n",
    "\n",
    "equals_to_str = str('Weekly_Sales ~ ') + equals_to_str\n",
    "equals_to_str = equals_to_str  + 'Week_Number_50 + Week_Number_51+ Dept_95 + Dept_92+ Dept_38'\n",
    "equals_to_str_withpromotion = equals_to_str  + '+ MarkDown*Weekly_Sales_Lag'"
   ]
  },
  {
   "cell_type": "markdown",
   "metadata": {},
   "source": [
    "## Reduced Models"
   ]
  },
  {
   "cell_type": "code",
   "execution_count": 37,
   "metadata": {
    "scrolled": true
   },
   "outputs": [
    {
     "name": "stdout",
     "output_type": "stream",
     "text": [
      "Model 1 without Promotion \n",
      "                             OLS Regression Results                            \n",
      "==============================================================================\n",
      "Dep. Variable:           Weekly_Sales   R-squared:                       0.879\n",
      "Model:                            OLS   Adj. R-squared:                  0.879\n",
      "Method:                 Least Squares   F-statistic:                 2.099e+05\n",
      "Date:                Thu, 17 Mar 2022   Prob (F-statistic):               0.00\n",
      "Time:                        20:04:17   Log-Likelihood:            -3.0104e+06\n",
      "No. Observations:              289299   AIC:                         6.021e+06\n",
      "Df Residuals:                  289288   BIC:                         6.021e+06\n",
      "Df Model:                          10                                         \n",
      "Covariance Type:            nonrobust                                         \n",
      "=====================================================================================\n",
      "                        coef    std err          t      P>|t|      [0.025      0.975]\n",
      "-------------------------------------------------------------------------------------\n",
      "Intercept           247.3962     42.690      5.795      0.000     163.725     331.067\n",
      "isHoliday[T.True]  -845.5337     55.780    -15.158      0.000    -954.860    -736.207\n",
      "Temperature           9.9790      0.837     11.928      0.000       8.339      11.619\n",
      "Weekly_Sales_Lag      0.9067      0.001   1185.741      0.000       0.905       0.908\n",
      "Type_A              698.9296     24.786     28.199      0.000     650.351     747.509\n",
      "Type_B                5.6130     24.101      0.233      0.816     -41.624      52.850\n",
      "Type_C             -457.1464     40.400    -11.316      0.000    -536.328    -377.964\n",
      "Week_Number_50     2363.1381    106.518     22.185      0.000    2154.366    2571.911\n",
      "Week_Number_51     6783.5677    106.467     63.715      0.000    6574.895    6992.240\n",
      "Dept_95            5074.3453    128.151     39.597      0.000    4823.173    5325.518\n",
      "Dept_92            5462.1660    129.366     42.223      0.000    5208.612    5715.720\n",
      "Dept_38            4289.9392    126.057     34.032      0.000    4042.872    4537.007\n",
      "==============================================================================\n",
      "Omnibus:                   322653.403   Durbin-Watson:                   2.644\n",
      "Prob(Omnibus):                  0.000   Jarque-Bera (JB):       8837920688.651\n",
      "Skew:                           4.081   Prob(JB):                         0.00\n",
      "Kurtosis:                     859.224   Cond. No.                     5.09e+19\n",
      "==============================================================================\n",
      "\n",
      "Notes:\n",
      "[1] Standard Errors assume that the covariance matrix of the errors is correctly specified.\n",
      "[2] The smallest eigenvalue is 8.87e-26. This might indicate that there are\n",
      "strong multicollinearity problems or that the design matrix is singular.\n"
     ]
    }
   ],
   "source": [
    "result_withoutpromotion = sm.ols(formula=equals_to_str, data = data_train).fit()\n",
    "print(\"Model 1 without Promotion \\n\",result_withoutpromotion.summary())"
   ]
  },
  {
   "cell_type": "code",
   "execution_count": 38,
   "metadata": {},
   "outputs": [
    {
     "name": "stdout",
     "output_type": "stream",
     "text": [
      "Model 1 with Promotion \n",
      "                             OLS Regression Results                            \n",
      "==============================================================================\n",
      "Dep. Variable:           Weekly_Sales   R-squared:                       0.883\n",
      "Model:                            OLS   Adj. R-squared:                  0.883\n",
      "Method:                 Least Squares   F-statistic:                 1.822e+05\n",
      "Date:                Thu, 17 Mar 2022   Prob (F-statistic):               0.00\n",
      "Time:                        20:04:17   Log-Likelihood:            -3.0052e+06\n",
      "No. Observations:              289299   AIC:                         6.010e+06\n",
      "Df Residuals:                  289286   BIC:                         6.010e+06\n",
      "Df Model:                          12                                         \n",
      "Covariance Type:            nonrobust                                         \n",
      "=============================================================================================\n",
      "                                coef    std err          t      P>|t|      [0.025      0.975]\n",
      "---------------------------------------------------------------------------------------------\n",
      "Intercept                    37.1945     42.183      0.882      0.378     -45.482     119.872\n",
      "isHoliday[T.True]          -852.3239     57.564    -14.806      0.000    -965.148    -739.500\n",
      "Temperature                   9.8274      0.826     11.902      0.000       8.209      11.446\n",
      "Weekly_Sales_Lag              0.9295      0.001   1186.239      0.000       0.928       0.931\n",
      "Type_A                      523.3284     24.537     21.328      0.000     475.236     571.421\n",
      "Type_B                      -72.7195     23.749     -3.062      0.002    -119.267     -26.172\n",
      "Type_C                     -413.4144     39.680    -10.419      0.000    -491.187    -335.642\n",
      "Week_Number_50             2256.6944    104.664     21.561      0.000    2051.556    2461.832\n",
      "Week_Number_51             6673.0064    104.573     63.812      0.000    6468.046    6877.967\n",
      "Dept_95                    4280.9141    126.114     33.945      0.000    4033.733    4528.095\n",
      "Dept_92                    4809.7483    127.235     37.802      0.000    4560.371    5059.125\n",
      "Dept_38                    3575.8496    124.011     28.835      0.000    3332.792    3818.907\n",
      "MarkDown                      0.0938      0.002     52.599      0.000       0.090       0.097\n",
      "MarkDown:Weekly_Sales_Lag -3.881e-06   3.77e-08   -102.926      0.000   -3.95e-06   -3.81e-06\n",
      "==============================================================================\n",
      "Omnibus:                   403272.909   Durbin-Watson:                   2.609\n",
      "Prob(Omnibus):                  0.000   Jarque-Bera (JB):      10351804946.193\n",
      "Skew:                           6.666   Prob(JB):                         0.00\n",
      "Kurtosis:                     929.606   Cond. No.                     9.24e+23\n",
      "==============================================================================\n",
      "\n",
      "Notes:\n",
      "[1] Standard Errors assume that the covariance matrix of the errors is correctly specified.\n",
      "[2] The smallest eigenvalue is 8.35e-26. This might indicate that there are\n",
      "strong multicollinearity problems or that the design matrix is singular.\n"
     ]
    }
   ],
   "source": [
    "result_withpromotion = sm.ols(formula=equals_to_str_withpromotion, data = data_train).fit()\n",
    "print(\"Model 1 with Promotion \\n\",result_withpromotion.summary())"
   ]
  },
  {
   "cell_type": "code",
   "execution_count": 39,
   "metadata": {},
   "outputs": [
    {
     "name": "stdout",
     "output_type": "stream",
     "text": [
      "The accuracy of the model is 84.56 %.(in the test dataset)\n",
      "The accuracy of the model is 84.53 %.(in the train dataset)\n"
     ]
    }
   ],
   "source": [
    "data_test = pd.concat([data_test, result_withoutpromotion.predict(data_test).rename(\"predicted_values_withoutpromotion\")], axis=1)\n",
    "print('The accuracy of the model is', round((1-(metrics.median_absolute_error(data_test.predicted_values_withoutpromotion, data_test.Weekly_Sales)/data_test.Weekly_Sales.median()))*100, 2), '%.(in the test dataset)')\n",
    "data_train = pd.concat([data_train, result_withoutpromotion.predict(data_train).rename(\"predicted_values_withoutpromotion\")], axis=1)\n",
    "print('The accuracy of the model is', round((1-(metrics.median_absolute_error(data_train.predicted_values_withoutpromotion, data_train.Weekly_Sales)/data_train.Weekly_Sales.median()))*100, 2), '%.(in the train dataset)')"
   ]
  },
  {
   "cell_type": "markdown",
   "metadata": {},
   "source": [
    "## Result Plots"
   ]
  },
  {
   "cell_type": "code",
   "execution_count": 40,
   "metadata": {},
   "outputs": [
    {
     "data": {
      "image/png": "[encoded data removed]",
      "text/plain": [
       "<Figure size 1080x360 with 1 Axes>"
      ]
     },
     "metadata": {
      "needs_background": "light"
     },
     "output_type": "display_data"
    }
   ],
   "source": [
    "pred_val = result_withoutpromotion.fittedvalues.copy()\n",
    "true_val = data_train['Weekly_Sales'].values.copy()\n",
    "residual = true_val - pred_val\n",
    "fig, ax = plt.subplots(figsize=(15,5))\n",
    "plt.xlabel('Error in Predicted Value', fontsize = 18)\n",
    "plt.ylabel('Predicted Value', fontsize = 18)\n",
    "plt.title(\"Residual plot (for Train Data)\", fontsize = 20)\n",
    "_ = ax.scatter(pred_val, residual)"
   ]
  },
  {
   "cell_type": "code",
   "execution_count": 41,
   "metadata": {},
   "outputs": [
    {
     "data": {
      "image/png": "[encoded data removed]",
      "text/plain": [
       "<Figure size 1080x360 with 1 Axes>"
      ]
     },
     "metadata": {
      "needs_background": "light"
     },
     "output_type": "display_data"
    }
   ],
   "source": [
    "fig, ax = plt.subplots(figsize=(15,5))\n",
    "_, (__, ___, r) = sp.stats.probplot(residual, plot=ax, fit=True)\n",
    "#r**2"
   ]
  },
  {
   "cell_type": "code",
   "execution_count": 42,
   "metadata": {},
   "outputs": [
    {
     "data": {
      "image/png": "[encoded data removed]",
      "text/plain": [
       "<Figure size 1080x360 with 1 Axes>"
      ]
     },
     "metadata": {
      "needs_background": "light"
     },
     "output_type": "display_data"
    }
   ],
   "source": [
    "pred_val = result_withpromotion.fittedvalues.copy()\n",
    "true_val = data_train['Weekly_Sales'].values.copy()\n",
    "residual = true_val - pred_val\n",
    "fig, ax = plt.subplots(figsize=(15,5))\n",
    "plt.xlabel('Error in Predicted Value', fontsize = 18)\n",
    "plt.ylabel('Predicted Value', fontsize = 18)\n",
    "plt.title(\"Comparison of Predicted Values VS Error (for Test Data)\", fontsize = 20)\n",
    "_ = ax.scatter(pred_val, residual)"
   ]
  },
  {
   "cell_type": "code",
   "execution_count": 43,
   "metadata": {},
   "outputs": [],
   "source": [
    "data_test[\"predicted_values_withoutpromotion\"] = result_withoutpromotion.predict(data_test)\n",
    "data_test[\"predicted_values_withpromotion\"] = result_withoutpromotion.predict(data_test)\n",
    "\n",
    "actual_sales = data_test.groupby(\"Dept\").mean()[\"Weekly_Sales\"]\n",
    "predicted_sales_withoutpromotion = data_test.groupby(\"Dept\").mean()[\"predicted_values_withoutpromotion\"]\n",
    "#data_test.to_csv(\"predictedvsactual.csv\")\n"
   ]
  },
  {
   "cell_type": "code",
   "execution_count": 44,
   "metadata": {},
   "outputs": [
    {
     "data": {
      "text/plain": [
       "Text(0.5, 1.0, 'Scatter plot of Actual Value VS Predicted Value')"
      ]
     },
     "execution_count": 44,
     "metadata": {},
     "output_type": "execute_result"
    },
    {
     "data": {
      "image/png": "[encoded data removed]",
      "text/plain": [
       "<Figure size 432x288 with 1 Axes>"
      ]
     },
     "metadata": {
      "needs_background": "light"
     },
     "output_type": "display_data"
    }
   ],
   "source": [
    "plt.scatter(data_test['Weekly_Sales'], data_test['predicted_values_withpromotion'])\n",
    "plt.xlabel('Actual Value', fontsize = 18)\n",
    "plt.ylabel('Predicted Value', fontsize = 18)\n",
    "plt.title(\"Scatter plot of Actual Value VS Predicted Value\", fontsize = 20)"
   ]
  }
 ],
 "metadata": {
  "kernelspec": {
   "display_name": "Python 3",
   "language": "python",
   "name": "python3"
  },
  "language_info": {
   "codemirror_mode": {
    "name": "ipython",
    "version": 3
   },
   "file_extension": ".py",
   "mimetype": "text/x-python",
   "name": "python",
   "nbconvert_exporter": "python",
   "pygments_lexer": "ipython3",
   "version": "3.8.5"
  }
 },
 "nbformat": 4,
 "nbformat_minor": 4
}
